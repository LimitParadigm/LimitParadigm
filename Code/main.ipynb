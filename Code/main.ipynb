{
 "cells": [
  {
   "cell_type": "code",
   "execution_count": null,
   "metadata": {},
   "outputs": [],
   "source": [
    "import time\n",
    "import pandas as pd\n",
    "import pandapower as pp\n",
    "import numpy as np\n",
    "import matplotlib.pyplot as plt\n",
    "import os\n",
    "from pandapower.plotting.plotly import pf_res_plotly\n",
    "from pandapower.plotting.plotly import simple_plotly\n",
    "\n",
    "import Utils.LimitParadigm as LimitParadigm\n",
    "import Utils.GA as GA\n",
    "import Utils.utils as utils"
   ]
  },
  {
   "cell_type": "markdown",
   "metadata": {},
   "source": [
    "# Import Network"
   ]
  },
  {
   "cell_type": "code",
   "execution_count": null,
   "metadata": {},
   "outputs": [],
   "source": [
    "input_path = '../Data/Input'\n",
    "output_path = '../Data/Output'\n",
    "\n",
    "paradigm = LimitParadigm.LimitParadigm(input_path)\n",
    "\n",
    "feeder_colors = ['#ff7f0e', '#9467bd']\n",
    "feeder_colors_after = [utils.scale_lightness(c, 0.6) for c in feeder_colors]\n",
    "\n",
    "meaningful_days = [15, 83, 162, 241, 324]\n",
    "timesteps = paradigm.get_meaningful_days_timesteps(meaningful_days)"
   ]
  },
  {
   "cell_type": "markdown",
   "metadata": {},
   "source": [
    "# Visualize Time-Series"
   ]
  },
  {
   "cell_type": "code",
   "execution_count": null,
   "metadata": {},
   "outputs": [],
   "source": [
    "paradigm.plot_P()"
   ]
  },
  {
   "cell_type": "code",
   "execution_count": null,
   "metadata": {},
   "outputs": [],
   "source": [
    "clips = ([-12,15], [-0.2,7.5]) #To be changed depending on your data\n",
    "a = utils.plot_P_by_feeder(paradigm.B_init, paradigm, timesteps, feeder_colors, meaningful_days=meaningful_days, clips=clips)"
   ]
  },
  {
   "cell_type": "markdown",
   "metadata": {},
   "source": [
    "# Initialize GA Algorithm"
   ]
  },
  {
   "cell_type": "code",
   "execution_count": null,
   "metadata": {},
   "outputs": [],
   "source": [
    "#Set weigths for the different terms in the objective function\n",
    "paradigm.scale_unbalance = 80 / (paradigm.number_timesteps * paradigm.number_customers) #weight for unbalance between the phases (Eq. 7 in the paper)\n",
    "paradigm.scale_aggregate = 0 / (paradigm.number_timesteps * paradigm.number_customers) #weight to avoid worsening the situation at any step (not mentioned in the paper but may lead to a more robust solution)\n",
    "paradigm.scale_changes = 4 / paradigm.number_customers #weight to reduce the number of changes (Eq 10)\n",
    "paradigm.scale_distances = 1 / paradigm.number_customers #weight for considering the distance of the reconfiguration (Eq 11)"
   ]
  },
  {
   "cell_type": "code",
   "execution_count": null,
   "metadata": {},
   "outputs": [],
   "source": [
    "ga_instance = GA.GA(paradigm)"
   ]
  },
  {
   "cell_type": "code",
   "execution_count": null,
   "metadata": {},
   "outputs": [],
   "source": [
    "ga_instance.reconstruct = False\n",
    "ga_instance.feeder = 0\n",
    "ga_instance.initial_solution = paradigm.B_init_nobinary\n",
    "# ga_instance.initial_solution = solution\n",
    "\n",
    "if(ga_instance.feeder == 0):\n",
    "    ga_instance.num_generations = 50\n",
    "    ga_instance.population_size = 30\n",
    "else:\n",
    "    ga_instance.num_generations = 6\n",
    "    ga_instance.population_size = 10\n",
    "ga_instance.mutation_rate = 0.4\n",
    "# ga_instance.initialize_run()"
   ]
  },
  {
   "cell_type": "code",
   "execution_count": null,
   "metadata": {},
   "outputs": [],
   "source": [
    "initial_loss = paradigm.objective_function(paradigm.B_init, False)\n",
    "print(f'Initial loss: {initial_loss}. \\n Initial config: {paradigm.B_init_nobinary}')"
   ]
  },
  {
   "cell_type": "code",
   "execution_count": null,
   "metadata": {},
   "outputs": [],
   "source": [
    "ga_instance.runGA()\n",
    "if(ga_instance.reconstruct):\n",
    "    solution = ga_instance.reconstruct_solution(ga_instance.best_solution[0])\n",
    "else:\n",
    "    solution = ga_instance.best_solution[0]"
   ]
  },
  {
   "cell_type": "code",
   "execution_count": null,
   "metadata": {},
   "outputs": [],
   "source": [
    "#Some plots to see the different losses\n",
    "plt.plot(np.array(paradigm.unbalance_loss) * paradigm.scale_unbalance, label='Unbalance')\n",
    "plt.plot(np.array(paradigm.associated_loss) * paradigm.scale_aggregate, label='Associated_loss')\n",
    "plt.plot(np.array(paradigm.changes_loss) * paradigm.scale_changes, label='Changes')\n",
    "plt.plot(np.array(paradigm.loss_distance) * paradigm.scale_distances, label='Distance')\n",
    "plt.legend()"
   ]
  },
  {
   "cell_type": "code",
   "execution_count": null,
   "metadata": {},
   "outputs": [],
   "source": [
    "if(ga_instance.reconstruct):\n",
    "    solution = ga_instance.reconstruct_solution(ga_instance.best_solution[0])\n",
    "else:\n",
    "    solution = ga_instance.best_solution[0]"
   ]
  },
  {
   "cell_type": "code",
   "execution_count": null,
   "metadata": {},
   "outputs": [],
   "source": [
    "print(f'Initial loss: {initial_loss}.\\nInitial config: {paradigm.B_init_nobinary}. Number customers: {len(paradigm.B_init_nobinary)}')\n",
    "B_sol = paradigm.get_B_from_genetic(solution)\n",
    "print(f'Solution loss: {paradigm.objective_function(B_sol, False)} ({paradigm.objective_function(B_sol)}). N. changes: {np.sum(B_sol * paradigm.B_init_opposite)}. \\n Solution config: {solution}')\n",
    "print([k for k in paradigm.B_init_nobinary])\n",
    "print([k for k in solution])"
   ]
  },
  {
   "cell_type": "code",
   "execution_count": null,
   "metadata": {},
   "outputs": [],
   "source": [
    "A_init, P = utils.plot_P_by_feeder(paradigm.B_init, paradigm, timesteps, feeder_colors, meaningful_days=meaningful_days, clips=clips)"
   ]
  },
  {
   "cell_type": "code",
   "execution_count": null,
   "metadata": {},
   "outputs": [],
   "source": [
    "A_sol, P_sol = utils.plot_P_by_feeder(B_sol, paradigm, timesteps, feeder_colors, meaningful_days=meaningful_days, clips=clips)"
   ]
  },
  {
   "cell_type": "code",
   "execution_count": null,
   "metadata": {},
   "outputs": [],
   "source": [
    "utils.plot_feeder_unbalance(paradigm, A_init, A_sol, feeder_colors, feeder_colors_after, meaningful_days=meaningful_days)"
   ]
  },
  {
   "cell_type": "markdown",
   "metadata": {},
   "source": [
    "# Run PFs"
   ]
  },
  {
   "cell_type": "code",
   "execution_count": null,
   "metadata": {},
   "outputs": [],
   "source": [
    "_, results = paradigm.run_simulations(paradigm.B_init, output_path)"
   ]
  },
  {
   "cell_type": "code",
   "execution_count": null,
   "metadata": {},
   "outputs": [],
   "source": [
    "utils.plot_PF_results(paradigm, results)"
   ]
  },
  {
   "cell_type": "code",
   "execution_count": null,
   "metadata": {},
   "outputs": [],
   "source": [
    "_, results_sol = paradigm.run_simulations(B_sol, output_path)"
   ]
  },
  {
   "cell_type": "code",
   "execution_count": null,
   "metadata": {},
   "outputs": [],
   "source": [
    "utils.plot_PF_results(paradigm, results_sol)"
   ]
  },
  {
   "cell_type": "code",
   "execution_count": null,
   "metadata": {},
   "outputs": [],
   "source": []
  },
  {
   "cell_type": "code",
   "execution_count": null,
   "metadata": {},
   "outputs": [],
   "source": [
    "#Plot a graph to see the change positions\n",
    "solution = paradigm.get_B_from_genetic(solution)\n",
    "for i,changed in enumerate(np.sum(solution * paradigm.B_init_opposite, axis=1)):\n",
    "    if(changed==1):\n",
    "        c = paradigm.net.asymmetric_load.iloc[i] #it may give issues if the indexes are not the same as expected\n",
    "        paradigm.net.bus.at[c['bus'], 'color'] = 'red'\n",
    "simple_plotly(paradigm.net, bus_color=paradigm.net.bus['color'])"
   ]
  },
  {
   "cell_type": "code",
   "execution_count": null,
   "metadata": {},
   "outputs": [],
   "source": []
  }
 ],
 "metadata": {
  "kernelspec": {
   "display_name": "Python 3.9.21 ('DOEpaper')",
   "language": "python",
   "name": "python3"
  },
  "language_info": {
   "codemirror_mode": {
    "name": "ipython",
    "version": 3
   },
   "file_extension": ".py",
   "mimetype": "text/x-python",
   "name": "python",
   "nbconvert_exporter": "python",
   "pygments_lexer": "ipython3",
   "version": "3.9.21"
  },
  "orig_nbformat": 4,
  "vscode": {
   "interpreter": {
    "hash": "8609c4dbd7af1220968aff6fc77749729186412b17f6aef12b24360143a698fd"
   }
  }
 },
 "nbformat": 4,
 "nbformat_minor": 2
}
