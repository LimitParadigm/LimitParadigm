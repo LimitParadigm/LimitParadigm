{
 "cells": [
  {
   "cell_type": "code",
   "execution_count": 1,
   "metadata": {},
   "outputs": [],
   "source": [
    "import time\n",
    "import pandas as pd\n",
    "import pandapower as pp\n",
    "import numpy as np\n",
    "import matplotlib.pyplot as plt\n",
    "import os\n",
    "from pandapower.plotting.plotly import pf_res_plotly\n",
    "from pandapower.plotting.plotly import simple_plotly\n",
    "\n",
    "import Utils.Network as Network\n",
    "import Utils.Limits as Limits\n",
    "import Utils.Market as Market\n",
    "import Utils.utils as utils"
   ]
  },
  {
   "cell_type": "markdown",
   "metadata": {},
   "source": [
    "# Import Network"
   ]
  },
  {
   "cell_type": "code",
   "execution_count": null,
   "metadata": {},
   "outputs": [],
   "source": [
    "from pickletools import markobject\n",
    "\n",
    "\n",
    "input_path = '../Data/Input'\n",
    "output_path = '../Data/Output'\n",
    "\n",
    "network_obj = Network.Network(input_path)\n",
    "\n",
    "feeder_colors = ['#ff7f0e', '#9467bd']\n",
    "feeder_colors_after = [utils.scale_lightness(c, 0.6) for c in feeder_colors]\n",
    "\n",
    "meaningful_days = [15, 83, 162, 241, 324]\n",
    "timesteps = network_obj.get_meaningful_days_timesteps(meaningful_days)\n",
    "\n",
    "limits_obj = Limits.Limits(network_obj)\n",
    "\n",
    "market_obj = Market.Market(network_obj, limits_obj)"
   ]
  },
  {
   "cell_type": "code",
   "execution_count": null,
   "metadata": {},
   "outputs": [],
   "source": [
    "ga_obj = limits_obj.calculate_limits()"
   ]
  },
  {
   "cell_type": "code",
   "execution_count": 5,
   "metadata": {},
   "outputs": [],
   "source": []
  },
  {
   "cell_type": "code",
   "execution_count": null,
   "metadata": {},
   "outputs": [],
   "source": [
    "plot_P(network_obj, 4, limits=limits_obj.limits)"
   ]
  },
  {
   "cell_type": "code",
   "execution_count": 4,
   "metadata": {},
   "outputs": [],
   "source": [
    "network_obj.load_time_series_at_timestep(network_obj.net, 0)"
   ]
  },
  {
   "cell_type": "code",
   "execution_count": null,
   "metadata": {},
   "outputs": [],
   "source": [
    "market_obj.submit_orders()"
   ]
  },
  {
   "cell_type": "code",
   "execution_count": null,
   "metadata": {},
   "outputs": [],
   "source": [
    "network_obj.P.plot()"
   ]
  },
  {
   "cell_type": "code",
   "execution_count": null,
   "metadata": {},
   "outputs": [],
   "source": []
  }
 ],
 "metadata": {
  "kernelspec": {
   "display_name": "DOEpaper",
   "language": "python",
   "name": "python3"
  },
  "language_info": {
   "codemirror_mode": {
    "name": "ipython",
    "version": 3
   },
   "file_extension": ".py",
   "mimetype": "text/x-python",
   "name": "python",
   "nbconvert_exporter": "python",
   "pygments_lexer": "ipython3",
   "version": "3.9.21"
  },
  "orig_nbformat": 4
 },
 "nbformat": 4,
 "nbformat_minor": 2
}
