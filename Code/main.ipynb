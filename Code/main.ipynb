{
 "cells": [
  {
   "cell_type": "code",
   "execution_count": null,
   "metadata": {},
   "outputs": [],
   "source": [
    "import time\n",
    "import pandas as pd\n",
    "import pandapower as pp\n",
    "import numpy as np\n",
    "import matplotlib.pyplot as plt\n",
    "import os\n",
    "from pandapower.plotting.plotly import pf_res_plotly\n",
    "from pandapower.plotting.plotly import simple_plotly\n",
    "\n",
    "import Utils.Network as Network\n",
    "import Utils.Limits as Limits\n",
    "import Utils.utils as utils"
   ]
  },
  {
   "cell_type": "markdown",
   "metadata": {},
   "source": [
    "# Import Network"
   ]
  },
  {
   "cell_type": "code",
   "execution_count": null,
   "metadata": {},
   "outputs": [],
   "source": [
    "input_path = '../Data/Input'\n",
    "output_path = '../Data/Output'\n",
    "\n",
    "network_obj = Network.Network(input_path)\n",
    "\n",
    "feeder_colors = ['#ff7f0e', '#9467bd']\n",
    "feeder_colors_after = [utils.scale_lightness(c, 0.6) for c in feeder_colors]\n",
    "\n",
    "meaningful_days = [15, 83, 162, 241, 324]\n",
    "timesteps = network_obj.get_meaningful_days_timesteps(meaningful_days)\n",
    "\n",
    "limits_obj = Limits.Limits(network_obj)"
   ]
  },
  {
   "cell_type": "code",
   "execution_count": null,
   "metadata": {},
   "outputs": [],
   "source": [
    "ga_obj = limits_obj.calculate_limits()"
   ]
  },
  {
   "cell_type": "code",
   "execution_count": null,
   "metadata": {},
   "outputs": [],
   "source": []
  },
  {
   "cell_type": "code",
   "execution_count": null,
   "metadata": {},
   "outputs": [],
   "source": []
  },
  {
   "cell_type": "code",
   "execution_count": null,
   "metadata": {},
   "outputs": [],
   "source": [
    "limits_obj.reshape_function(ga_obj.mistakes[200])"
   ]
  },
  {
   "cell_type": "code",
   "execution_count": null,
   "metadata": {},
   "outputs": [],
   "source": [
    "a = np.array(ga_obj.best_solution_found[0])\n",
    "L = a.reshape(network_obj.limits_shape, order='F')\n",
    "print(limits_obj.objective_function(L), limits_obj.SafetyVerification(L))\n",
    "for i in [0,1]:\n",
    "    network_obj.net.load.p_mw = L[:, i] / 1000\n",
    "    pp.runpp(network_obj.net)\n",
    "    # _ = pf_res_plotly(network_obj.net, figsize=.5)\n",
    "    print(network_obj.net.res_bus.vm_pu.max(), network_obj.net.res_bus.vm_pu.min())"
   ]
  },
  {
   "cell_type": "code",
   "execution_count": null,
   "metadata": {},
   "outputs": [],
   "source": [
    "L"
   ]
  },
  {
   "cell_type": "code",
   "execution_count": null,
   "metadata": {},
   "outputs": [],
   "source": [
    "network_obj.net.load.p_mw = 1.5/1000\n",
    "pp.runpp(network_obj.net)\n",
    "print(network_obj.net.res_bus.vm_pu.max(), network_obj.net.res_bus.vm_pu.min())"
   ]
  },
  {
   "cell_type": "code",
   "execution_count": null,
   "metadata": {},
   "outputs": [],
   "source": []
  }
 ],
 "metadata": {
  "kernelspec": {
   "display_name": "Python 3.9.21 ('DOEpaper')",
   "language": "python",
   "name": "python3"
  },
  "language_info": {
   "codemirror_mode": {
    "name": "ipython",
    "version": 3
   },
   "file_extension": ".py",
   "mimetype": "text/x-python",
   "name": "python",
   "nbconvert_exporter": "python",
   "pygments_lexer": "ipython3",
   "version": "3.9.21"
  },
  "orig_nbformat": 4,
  "vscode": {
   "interpreter": {
    "hash": "8609c4dbd7af1220968aff6fc77749729186412b17f6aef12b24360143a698fd"
   }
  }
 },
 "nbformat": 4,
 "nbformat_minor": 2
}
