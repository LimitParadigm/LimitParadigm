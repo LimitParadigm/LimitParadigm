{
 "cells": [
  {
   "cell_type": "code",
   "execution_count": null,
   "metadata": {},
   "outputs": [],
   "source": [
    "import time\n",
    "import pandas as pd\n",
    "import pandapower as pp\n",
    "import numpy as np\n",
    "import matplotlib.pyplot as plt\n",
    "import os\n",
    "from pandapower.plotting.plotly import pf_res_plotly\n",
    "from pandapower.plotting.plotly import simple_plotly\n",
    "\n",
    "import Utils.Network as Network\n",
    "import Utils.Limits as Limits\n",
    "import Utils.Market as Market\n",
    "import Utils.utils as utils\n",
    "\n",
    "import time"
   ]
  },
  {
   "cell_type": "markdown",
   "metadata": {},
   "source": [
    "# Import Network"
   ]
  },
  {
   "cell_type": "code",
   "execution_count": null,
   "metadata": {},
   "outputs": [],
   "source": [
    "input_path = '../Data/Input'\n",
    "output_path = '../Data/Output'\n",
    "\n",
    "network_obj = Network.Network(input_path)\n",
    "\n",
    "feeder_colors = ['#ff7f0e', '#9467bd']\n",
    "feeder_colors_after = [utils.scale_lightness(c, 0.6) for c in feeder_colors]\n",
    "\n",
    "meaningful_days = [15, 83, 162, 241, 324]\n",
    "timesteps = network_obj.get_meaningful_days_timesteps(meaningful_days)\n",
    "\n",
    "limits_obj = Limits.Limits(network_obj)\n",
    "limits_obj.load_limits(\"solution_limits.npy\")\n",
    "market_obj = Market.Market(network_obj, limits_obj)"
   ]
  },
  {
   "cell_type": "code",
   "execution_count": null,
   "metadata": {},
   "outputs": [],
   "source": [
    "ga_obj = limits_obj.calculate_limits()"
   ]
  },
  {
   "cell_type": "code",
   "execution_count": null,
   "metadata": {},
   "outputs": [],
   "source": [
    "network_obj.plot_P(4, limits=limits_obj.limits)"
   ]
  },
  {
   "cell_type": "code",
   "execution_count": null,
   "metadata": {},
   "outputs": [],
   "source": [
    "0.8**5"
   ]
  },
  {
   "cell_type": "code",
   "execution_count": null,
   "metadata": {},
   "outputs": [],
   "source": [
    "ti = time.time()\n",
    "print(f\"Expected execution time: {(len(network_obj.timesteps) * 4.7):.1f} seconds; minutes: {(len(network_obj.timesteps) * 4.7 / 60):.1f}\")\n",
    "for t in network_obj.timesteps[:100]:\n",
    "    network_obj.load_time_series_at_timestep(network_obj.net, t)\n",
    "    market_obj.submit_orders()\n",
    "    market_obj.market_clearing()\n",
    "tf = time.time()\n",
    "print(f\"Time taken: {(tf - ti):.1f} seconds. Average: {((tf - ti) / len(network_obj.timesteps[:100])):.3f} seconds\")"
   ]
  },
  {
   "cell_type": "code",
   "execution_count": null,
   "metadata": {},
   "outputs": [],
   "source": [
    "limits_obj.plot_limits_usage(network_obj.net, limits_obj.initial_limits)\n",
    "limits_obj.plot_limits_usage(network_obj.net, limits_obj.limits)"
   ]
  },
  {
   "cell_type": "code",
   "execution_count": null,
   "metadata": {},
   "outputs": [],
   "source": [
    "market_obj.traded_limits"
   ]
  },
  {
   "cell_type": "code",
   "execution_count": null,
   "metadata": {},
   "outputs": [],
   "source": [
    "import matplotlib.pyplot as plt\n",
    "import numpy as np\n",
    "\n",
    "def plot_traded_limits(market_obj):\n",
    "    \"\"\"\n",
    "    Plot traded limits across timesteps with enhanced visualization\n",
    "    \n",
    "    Parameters:\n",
    "        market_obj: Market object containing traded_limits list\n",
    "                   Each element is a list of traded amounts for a timestep\n",
    "    \"\"\"\n",
    "    plt.figure(figsize=(12, 6))\n",
    "    \n",
    "    # Convert to numpy array for vectorized operations\n",
    "    timesteps = np.arange(len(market_obj.traded_limits))\n",
    "    traded_limits = [np.sum(np.abs(t)) if t else 0 for t in market_obj.traded_limits]\n",
    "    \n",
    "    # Main plot with custom styling\n",
    "    bars = plt.bar(timesteps, traded_limits, \n",
    "                   color='skyblue', \n",
    "                   edgecolor='navy',\n",
    "                   linewidth=1.2,\n",
    "                   alpha=0.8,\n",
    "                   label='Total Traded Volume')\n",
    "    \n",
    "    # Add value labels on top of bars\n",
    "    for bar in bars:\n",
    "        height = bar.get_height()\n",
    "        # if height > 0:\n",
    "        #     plt.text(bar.get_x() + bar.get_width()/2., height,\n",
    "        #             f'{height:.1f}',\n",
    "        #             ha='center', va='bottom',\n",
    "        #             fontsize=7)\n",
    "    \n",
    "    # Customize plot appearance\n",
    "    plt.title('Market Clearing Volume by Timestep', pad=20, fontsize=14)\n",
    "    plt.xlabel('Timestep', labelpad=10)\n",
    "    plt.ylabel('Traded Volume (kW)', labelpad=10)\n",
    "    # plt.xticks(timesteps)\n",
    "    \n",
    "    # Add grid and style\n",
    "    plt.grid(axis='y', linestyle='--', alpha=0.7)\n",
    "    plt.gca().set_axisbelow(True)\n",
    "    \n",
    "    plt.legend()\n",
    "    plt.tight_layout()\n",
    "    plt.show()\n",
    "\n",
    "# Usage\n",
    "plot_traded_limits(market_obj)"
   ]
  },
  {
   "cell_type": "code",
   "execution_count": null,
   "metadata": {},
   "outputs": [],
   "source": []
  }
 ],
 "metadata": {
  "kernelspec": {
   "display_name": "DOEpaper",
   "language": "python",
   "name": "python3"
  },
  "language_info": {
   "codemirror_mode": {
    "name": "ipython",
    "version": 3
   },
   "file_extension": ".py",
   "mimetype": "text/x-python",
   "name": "python",
   "nbconvert_exporter": "python",
   "pygments_lexer": "ipython3",
   "version": "3.9.21"
  },
  "orig_nbformat": 4
 },
 "nbformat": 4,
 "nbformat_minor": 2
}
