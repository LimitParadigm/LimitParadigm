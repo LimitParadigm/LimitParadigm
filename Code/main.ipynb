{
 "cells": [
  {
   "cell_type": "code",
   "execution_count": 1,
   "metadata": {},
   "outputs": [],
   "source": [
    "import time\n",
    "import pandas as pd\n",
    "import pandapower as pp\n",
    "import numpy as np\n",
    "import matplotlib.pyplot as plt\n",
    "import os\n",
    "from pandapower.plotting.plotly import pf_res_plotly\n",
    "from pandapower.plotting.plotly import simple_plotly\n",
    "\n",
    "import Utils.Network as Network\n",
    "import Utils.Limits as Limits\n",
    "import Utils.Market as Market\n",
    "import Utils.utils as utils"
   ]
  },
  {
   "cell_type": "markdown",
   "metadata": {},
   "source": [
    "# Import Network"
   ]
  },
  {
   "cell_type": "code",
   "execution_count": null,
   "metadata": {},
   "outputs": [],
   "source": [
    "from pickletools import markobject\n",
    "\n",
    "\n",
    "input_path = '../Data/Input'\n",
    "output_path = '../Data/Output'\n",
    "\n",
    "network_obj = Network.Network(input_path)\n",
    "\n",
    "feeder_colors = ['#ff7f0e', '#9467bd']\n",
    "feeder_colors_after = [utils.scale_lightness(c, 0.6) for c in feeder_colors]\n",
    "\n",
    "meaningful_days = [15, 83, 162, 241, 324]\n",
    "timesteps = network_obj.get_meaningful_days_timesteps(meaningful_days)\n",
    "\n",
    "limits_obj = Limits.Limits(network_obj)\n",
    "limits_obj.load_limits(\"solution_limits.npy\")\n",
    "market_obj = Market.Market(network_obj, limits_obj)"
   ]
  },
  {
   "cell_type": "code",
   "execution_count": null,
   "metadata": {},
   "outputs": [],
   "source": [
    "ga_obj = limits_obj.calculate_limits()"
   ]
  },
  {
   "cell_type": "code",
   "execution_count": null,
   "metadata": {},
   "outputs": [],
   "source": [
    "plot_P(network_obj, 4, limits=limits_obj.limits)"
   ]
  },
  {
   "cell_type": "code",
   "execution_count": 3,
   "metadata": {},
   "outputs": [],
   "source": [
    "network_obj.load_time_series_at_timestep(network_obj.net, 1)"
   ]
  },
  {
   "cell_type": "code",
   "execution_count": null,
   "metadata": {},
   "outputs": [],
   "source": [
    "market_obj.submit_orders()"
   ]
  },
  {
   "cell_type": "code",
   "execution_count": null,
   "metadata": {},
   "outputs": [],
   "source": [
    "market_obj.market_clearing()"
   ]
  },
  {
   "cell_type": "code",
   "execution_count": null,
   "metadata": {},
   "outputs": [],
   "source": []
  },
  {
   "cell_type": "code",
   "execution_count": null,
   "metadata": {},
   "outputs": [],
   "source": []
  },
  {
   "cell_type": "code",
   "execution_count": null,
   "metadata": {},
   "outputs": [],
   "source": [
    "# empty network\n",
    "net = pp.create_empty_network()\n",
    "\n",
    "# HV bus (20 kV) and LV (0,4 kV)\n",
    "bus1 = pp.create_bus(net, vn_kv=20, name=\"HV Bus\")  # Bus source 20 kV\n",
    "bus2 = pp.create_bus(net, vn_kv=20, name=\"HT Bus 2\")  # Bus avant transfo\n",
    "bus3 = pp.create_bus(net, vn_kv=0.4, name=\"LT Bus\")  # main LV bus\n",
    "\n",
    "# prosumers busses\n",
    "bus4 = pp.create_bus(net, vn_kv=0.4, name=\"bus C1\")\n",
    "bus5 = pp.create_bus(net, vn_kv=0.4, name=\"bus C2\")\n",
    "bus6 = pp.create_bus(net, vn_kv=0.4, name=\"bus C3\")\n",
    "bus7 = pp.create_bus(net, vn_kv=0.4, name=\"bus C4\")\n",
    "bus8 = pp.create_bus(net, vn_kv=0.4, name=\"bus C5\")\n",
    "bus9 = pp.create_bus(net, vn_kv=0.4, name=\"bus C6\")\n",
    "bus10 = pp.create_bus(net, vn_kv=0.4, name=\"bus C7\")\n",
    "bus11 = pp.create_bus(net, vn_kv=0.4, name=\"bus C8\")\n",
    "\n",
    "# HV line between source and transfo\n",
    "pp.create_line(net, from_bus=bus1, to_bus=bus2, length_km=1, std_type=\"NA2XS2Y 1x185 RM/25 12/20 kV\", name=\"Ligne HV\")\n",
    "\n",
    "#pp.create_shunt(net, bus=bus3, p_mw=0, q_mvar=-2, name=\"Régulateur de Tension\")\n",
    "\n",
    "\n",
    "# Transformateur 20kV/0,4kV\n",
    "pp.create_transformer_from_parameters(\n",
    "    net,\n",
    "    hv_bus=bus2, lv_bus=bus3,\n",
    "    sn_mva=2.5,        # Puissance nominale du transfo (1.25 MVA)\n",
    "    vn_hv_kv=20,        # Tension nominale HT (20 kV)\n",
    "    vn_lv_kv=0.4,       # Tension nominale BT (0.4 kV)\n",
    "    vk_percent=6,       # Tension de court-circuit en %\n",
    "    vkr_percent=0.5,    # Pertes résistives (%)\n",
    "    pfe_kw=1.5,         # Pertes à vide (kW)\n",
    "    i0_percent=0.1,     # Courant à vide (%)\n",
    "    shift_degree=0,     # Décalage angulaire (Dyn5)\n",
    "    name=\"Transfo 2.5 MVA\"\n",
    ")\n",
    "\n",
    "# prosumers lines\n",
    "pp.create_line(net, from_bus=bus3, to_bus=bus4, length_km=0.1, std_type=\"NAYY 4x150 SE\", name=\"line LV 1\")\n",
    "pp.create_line(net, from_bus=bus3, to_bus=bus5, length_km=0.3, std_type=\"NAYY 4x150 SE\", name=\"line LV 2\")\n",
    "pp.create_line(net, from_bus=bus3, to_bus=bus6, length_km=0.4, std_type=\"NAYY 4x150 SE\", name=\"line LV 3\")\n",
    "pp.create_line(net, from_bus=bus3, to_bus=bus7, length_km=0.5, std_type=\"NAYY 4x150 SE\", name=\"line LV 4\")\n",
    "pp.create_line(net, from_bus=bus3, to_bus=bus8, length_km=0.5, std_type=\"NAYY 4x150 SE\", name=\"line LV 5\")\n",
    "pp.create_line(net, from_bus=bus3, to_bus=bus9, length_km=0.5, std_type=\"NAYY 4x150 SE\", name=\"line LV 6\")\n",
    "pp.create_line(net, from_bus=bus3, to_bus=bus10, length_km=0.5, std_type=\"NAYY 4x150 SE\", name=\"line LV 7\")\n",
    "pp.create_line(net, from_bus=bus3, to_bus=bus11, length_km=0.5, std_type=\"NAYY 4x150 SE\", name=\"line LV 8\")\n",
    "\n",
    "# source 20 kV\n",
    "pp.create_ext_grid(net, bus=bus1, vm_pu=1.02, name=\"Bus source\")\n",
    "\n",
    "# Prosumers consumption\n",
    "pp.create_load(net, bus=bus4, p_mw=0.008, q_mvar=0.0003, name=\"Charge C1\")\n",
    "pp.create_load(net, bus=bus5, p_mw=0.005, q_mvar=0.0004, name=\"Charge C2\")\n",
    "pp.create_load(net, bus=bus6, p_mw=0.007, q_mvar=0.00035, name=\"Charge C3\")\n",
    "pp.create_load(net, bus=bus7, p_mw=0.006, q_mvar=0.00025, name=\"Charge C4\")\n",
    "pp.create_load(net, bus=bus8, p_mw=0.008, q_mvar=0.0004, name=\"Charge C5\")\n",
    "pp.create_load(net, bus=bus9, p_mw=0.007, q_mvar=0.00025, name=\"Charge C6\")\n",
    "pp.create_load(net, bus=bus10, p_mw=0.004, q_mvar=0.00025, name=\"Charge C7\")\n",
    "pp.create_load(net, bus=bus11, p_mw=0.003, q_mvar=0.00025, name=\"Charge C8\")\n",
    "\n",
    "# prosumers prodcution\n",
    "pp.create_sgen(net, bus=bus4, p_mw=0.005, name=\"PV C1\")\n",
    "pp.create_sgen(net, bus=bus5, p_mw=0.007, name=\"PV C2\")\n",
    "pp.create_sgen(net, bus=bus6, p_mw=0.002, name=\"PV C3\")\n",
    "pp.create_sgen(net, bus=bus7, p_mw=0.003, name=\"PV C4\")\n",
    "pp.create_sgen(net, bus=bus8, p_mw=0.004, name=\"PV C5\")\n",
    "pp.create_sgen(net, bus=bus9, p_mw=0.003, name=\"PV C6\")\n",
    "pp.create_sgen(net, bus=bus10, p_mw=0.005, name=\"PV C7\")\n",
    "pp.create_sgen(net, bus=bus11, p_mw=0.003, name=\"PV C8\")\n",
    "\n",
    "v = .05\n",
    "net.load.p_mw = -v\n",
    "net.load.q_mvar = 0\n",
    "net.sgen.p_mw = 0\n",
    "net.sgen.q_mvar = 0\n",
    "net.load.p_mw.plot()\n",
    "net.sgen.p_mw.plot()\n",
    "\n",
    "pp.runpp(net)\n",
    "_ = pf_res_plotly(net)"
   ]
  },
  {
   "cell_type": "code",
   "execution_count": null,
   "metadata": {},
   "outputs": [],
   "source": []
  }
 ],
 "metadata": {
  "kernelspec": {
   "display_name": "DOEpaper",
   "language": "python",
   "name": "python3"
  },
  "language_info": {
   "codemirror_mode": {
    "name": "ipython",
    "version": 3
   },
   "file_extension": ".py",
   "mimetype": "text/x-python",
   "name": "python",
   "nbconvert_exporter": "python",
   "pygments_lexer": "ipython3",
   "version": "3.9.21"
  },
  "orig_nbformat": 4
 },
 "nbformat": 4,
 "nbformat_minor": 2
}
